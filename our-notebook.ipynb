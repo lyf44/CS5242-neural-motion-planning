{
 "cells": [
  {
   "cell_type": "code",
   "execution_count": 2,
   "id": "b4ef79b4",
   "metadata": {},
   "outputs": [
    {
     "ename": "ModuleNotFoundError",
     "evalue": "No module named 'ipdb'",
     "output_type": "error",
     "traceback": [
      "\u001b[0;31m---------------------------------------------------------------------------\u001b[0m",
      "\u001b[0;31mModuleNotFoundError\u001b[0m                       Traceback (most recent call last)",
      "\u001b[0;32m<ipython-input-2-5aecdc9391ac>\u001b[0m in \u001b[0;36m<module>\u001b[0;34m\u001b[0m\n\u001b[0;32m----> 1\u001b[0;31m \u001b[0;32mimport\u001b[0m \u001b[0mipdb\u001b[0m\u001b[0;34m\u001b[0m\u001b[0;34m\u001b[0m\u001b[0m\n\u001b[0m",
      "\u001b[0;31mModuleNotFoundError\u001b[0m: No module named 'ipdb'"
     ]
    }
   ],
   "source": [
    "import ipdb"
   ]
  },
  {
   "cell_type": "code",
   "execution_count": 11,
   "metadata": {},
   "outputs": [],
   "source": [
    "%matplotlib inline"
   ]
  },
  {
   "cell_type": "markdown",
   "id": "f313fd07",
   "metadata": {},
   "source": [
    "# Data generation"
   ]
  },
  {
   "cell_type": "markdown",
   "id": "aeaa7faa",
   "metadata": {},
   "source": [
    "## Environment and robot"
   ]
  },
  {
   "cell_type": "markdown",
   "metadata": {},
   "source": [
    "Our robot is a shaped as a 2d planar box with size equals to 0.2 meters. It can move simultaneously both horizontally and vertically. Therefore, its configuration space is a 2d rectangle which size is determined by the maze size. "
   ]
  },
  {
   "cell_type": "code",
   "execution_count": 12,
   "metadata": {},
   "outputs": [],
   "source": [
    "class MyPlanarRobot():\n",
    "    def __init__(self, base_xy_bounds=5.0) -> None:\n",
    "        self.num_dim = 2\n",
    "        self.joint_idx=[0,1]\n",
    "        self.size = 0.2\n",
    "\n",
    "        self.joint_bounds = []\n",
    "        self.joint_bounds.append([-base_xy_bounds, base_xy_bounds]) # x\n",
    "        self.joint_bounds.append([-base_xy_bounds, base_xy_bounds]) # y\n",
    "\n",
    "        self.reset()\n",
    "\n",
    "    def get_joint_bounds(self):\n",
    "        return self.joint_bounds\n",
    "\n",
    "    def get_joint_lower_bounds(self):\n",
    "        robot_bounds_low = [bound[0] for bound in self.joint_bounds]\n",
    "        return robot_bounds_low\n",
    "\n",
    "    def get_joint_higher_bounds(self):\n",
    "        robot_bounds_high = [bound[1] for bound in self.joint_bounds]\n",
    "        return robot_bounds_high\n",
    "\n",
    "    def get_cur_state(self):\n",
    "        return self.state\n",
    "\n",
    "    def set_state(self, state):\n",
    "        self.state = state\n",
    "\n",
    "    def reset(self):\n",
    "        self.state = [0] * self.num_dim"
   ]
  },
  {
   "cell_type": "markdown",
   "metadata": {},
   "source": [
    "Our environment is a 2d maze with size 5m * 5m. It is filled with random generated square obstacles of fixed size 1m * 1m.  The difficulties of the maze can be manipulated by altering the number of obstacles present. The maze can be visualized by an occupancy grid with resolution 0.5m, making it essentially an image of size 10 x 10. \n",
    "\n",
    "To facilitate path planning, the maze class also contains code to sample valid start and goals of the point robot and perform collision checking for a given robot configuration. "
   ]
  },
  {
   "cell_type": "code",
   "execution_count": 13,
   "id": "c8dd910d",
   "metadata": {},
   "outputs": [],
   "source": [
    "import os\n",
    "import sys\n",
    "import numpy as np\n",
    "import math\n",
    "import random\n",
    "import json\n",
    "import sys\n",
    "import os.path as osp\n",
    "\n",
    "# -------------- Settings ----------------\n",
    "RANDOM = True\n",
    "TOTAL_START_GOAL_CNT = 50\n",
    "MAZE_SIZE = 5\n",
    "OCC_GRID_RESOLUTION = 0.1\n",
    "SMALL_OCC_GRID_RESLUTION = 0.5\n",
    "\n",
    "class Maze2D():\n",
    "    def __init__(self):\n",
    "        self.obstacles = []\n",
    "\n",
    "        # load robot\n",
    "        robot = MyPlanarRobot(base_xy_bounds = MAZE_SIZE / 2.0)\n",
    "        self.robot = robot\n",
    "\n",
    "        # 2d occupancy grid\n",
    "        self.occ_grid_size = int(MAZE_SIZE / OCC_GRID_RESOLUTION)\n",
    "        self.occ_grid = np.zeros((self.occ_grid_size, self.occ_grid_size), dtype=np.uint8)\n",
    "        self.small_occ_grid_size = int(MAZE_SIZE / SMALL_OCC_GRID_RESLUTION)\n",
    "\n",
    "        # clear obstacles\n",
    "        self.clear_obstacles()\n",
    "\n",
    "        # add surrounding walls\n",
    "        half_size = MAZE_SIZE / 2.0\n",
    "        # add wall\n",
    "        self.add_box([half_size + 0.1, 0, 1], [0.1, half_size, 1])\n",
    "        self.add_box([-half_size - 0.1, 0, 1], [0.1, half_size, 1])\n",
    "        self.add_box([0, half_size + 0.1, 1], [half_size, 0.1, 1])\n",
    "        self.add_box([0, -half_size - 0.1, 1], [half_size, 0.1, 1])\n",
    "\n",
    "        # internal attributes\n",
    "        self.goal_robot_id = None\n",
    "        self.path = None\n",
    "        self.approx_path = None\n",
    "        self.sg_pairs = None\n",
    "\n",
    "    def clear_obstacles(self):\n",
    "        self.occ_grid.fill(0)\n",
    "        self.obstacle_dict = {}\n",
    "        self.inflated_occ_grid = None\n",
    "\n",
    "    def random_obstacles(self, num_of_boxes = 8):\n",
    "        # add random obstacles with boxes.\n",
    "        # box_positions = [(-2.25, 2.25)]\n",
    "        box_positions = []\n",
    "\n",
    "        for _ in range(num_of_boxes):\n",
    "            x = random.randint(0, 4)\n",
    "            y = random.randint(0, 4)\n",
    "            x = x - 2\n",
    "            y = y - 2\n",
    "            box_positions.append((x, y))\n",
    "\n",
    "        # print(box_positions)\n",
    "        for box_pos in box_positions:\n",
    "            self.add_box([box_pos[0], box_pos[1], 0.5], [0.5, 0.5, 0.5])\n",
    "\n",
    "        self.obstacle_dict[\"box\"] = box_positions\n",
    "\n",
    "        self.get_inflated_occ_grid()\n",
    "\n",
    "    def add_box(self, box_pos, half_box_size):\n",
    "        # for occupancy grid, center is at upper left corner, unit is cm\n",
    "        half_size = MAZE_SIZE / 2.0\n",
    "        tmp = int(1 / OCC_GRID_RESOLUTION)\n",
    "        cx = (-box_pos[1] + half_size) * tmp\n",
    "        cy = (box_pos[0] + half_size) * tmp\n",
    "        x_size = half_box_size[1] * tmp\n",
    "        y_size = half_box_size[0] * tmp\n",
    "        for x in range(max(0, int(cx - x_size)), min(self.occ_grid_size, int(cx + x_size))):\n",
    "            for y in range(max(0, int(cy - y_size)), min(self.occ_grid_size, int(cy + y_size))):\n",
    "                self.occ_grid[x, y] = 1\n",
    "\n",
    "    def get_occupancy_grid(self):\n",
    "        return self.occ_grid\n",
    "\n",
    "    def get_small_occupancy_grid(self):\n",
    "        occ_grid_small = np.zeros((self.small_occ_grid_size, self.small_occ_grid_size), dtype=np.int8)\n",
    "        for i in range(self.small_occ_grid_size):\n",
    "            for j in range(self.small_occ_grid_size):\n",
    "                occ_grid_small[i, j] = (np.max(self.occ_grid[i*5:(i+1)*5, j*5:(j+1)*5]) == 1)\n",
    "\n",
    "        return occ_grid_small\n",
    "\n",
    "    def get_obstacle_dict(self):\n",
    "        return self.obstacle_dict.copy()\n",
    "\n",
    "    def load_obstacle_dict(self, obstacle_dict):\n",
    "        if \"box\" in obstacle_dict:\n",
    "            for box_pos in obstacle_dict[\"box\"]:\n",
    "                self.add_box([box_pos[0], box_pos[1], 0.5], [0.5, 0.5, 0.5])\n",
    "\n",
    "        self.obstacle_dict = obstacle_dict\n",
    "\n",
    "    def sample_start_goal(self):\n",
    "        while True:\n",
    "            start = [0] * self.robot.num_dim\n",
    "            goal = [0] * self.robot.num_dim\n",
    "            low_bounds = self.robot.get_joint_lower_bounds()\n",
    "            high_bounds = self.robot.get_joint_higher_bounds()\n",
    "            for i in range(self.robot.num_dim):\n",
    "                start[i] = random.uniform(low_bounds[i], high_bounds[i])\n",
    "                goal[i] = random.uniform(low_bounds[i], high_bounds[i])\n",
    "\n",
    "            if self.is_state_valid(start) and self.is_state_valid(goal):\n",
    "                self.start = start\n",
    "                self.goal = goal\n",
    "                break\n",
    "\n",
    "        print(\"Maze2d: start: {}\".format(self.start))\n",
    "        print(\"Maze2d: goal: {}\".format(self.goal))\n",
    "\n",
    "    def get_inflated_occ_grid(self):\n",
    "        if self.inflated_occ_grid is None:\n",
    "            tmp = np.zeros((self.occ_grid_size + 2, self.occ_grid_size + 2), dtype=np.uint8)\n",
    "            tmp[:self.occ_grid_size, :self.occ_grid_size] += self.occ_grid\n",
    "            tmp[1:self.occ_grid_size + 1, :self.occ_grid_size] += self.occ_grid\n",
    "            tmp[2:, :self.occ_grid_size] += self.occ_grid\n",
    "            tmp[:self.occ_grid_size, 1:self.occ_grid_size+1] += self.occ_grid\n",
    "            tmp[1:self.occ_grid_size + 1, 1:self.occ_grid_size+1] += self.occ_grid\n",
    "            tmp[2:, 1:self.occ_grid_size+1] += self.occ_grid\n",
    "            tmp[:self.occ_grid_size, 2:] += self.occ_grid\n",
    "            tmp[1:self.occ_grid_size + 1, 2:] += self.occ_grid\n",
    "            tmp[2:, 2:] += self.occ_grid\n",
    "            tmp[tmp > 0] = 1\n",
    "\n",
    "            self.inflated_occ_grid = tmp[1:self.occ_grid_size + 1, 1:self.occ_grid_size + 1]\n",
    "\n",
    "    def is_state_valid(self, robot_state):\n",
    "        # Inflate obstacle for collision checking\n",
    "        self.get_inflated_occ_grid()\n",
    "\n",
    "        y, x = robot_state[0], robot_state[1]\n",
    "        x = int((MAZE_SIZE / 2.0 - x) / 0.1)\n",
    "        y = int((y + MAZE_SIZE / 2.0) / 0.1)\n",
    "\n",
    "        res = (self.inflated_occ_grid[x, y] != 1)\n",
    "        return res"
   ]
  },
  {
   "cell_type": "markdown",
   "metadata": {},
   "source": [
    "Let's generate a random environment and sample a random start and goal configuration of the robot and visualize the problem. The start configuration is shown in yellow and the goal configuration is shown in red."
   ]
  },
  {
   "cell_type": "code",
   "execution_count": 15,
   "metadata": {},
   "outputs": [
    {
     "name": "stdout",
     "output_type": "stream",
     "text": [
      "Maze2d: start: [-1.7337804889263038, 0.6677984352276205]\n",
      "Maze2d: goal: [-2.0924252128314027, -2.0845208967241207]\n"
     ]
    },
    {
     "data": {
      "image/png": "[encoded data removed]",
      "text/plain": [
       "<Figure size 1000x1000 with 1 Axes>"
      ]
     },
     "metadata": {
      "needs_background": "light"
     },
     "output_type": "display_data"
    }
   ],
   "source": [
    "import matplotlib.pyplot as plt\n",
    "import matplotlib.patches as patches\n",
    "\n",
    "def visualize_data(occ_g, start_pos, goal_pos):\n",
    "    occ_g = np.array(occ_g).reshape(10, 10)\n",
    "    fig, ax = plt.subplots(1, figsize=(10, 10), dpi=100)\n",
    "    occ_grid_size = occ_g.shape[0]\n",
    "    tmp = occ_grid_size / 4.0 - 0.25\n",
    "    s = (10.0 / occ_grid_size * 100 / 2) ** 2 + 500\n",
    "    for i in range(occ_grid_size):\n",
    "        for j in range(occ_grid_size):\n",
    "            if occ_g[i,j] == 1:\n",
    "                plt.scatter(j/2.0 - tmp, tmp - i/2.0, color=\"black\", marker='s', s=s, alpha=1) # init\n",
    "\n",
    "    ax.add_patch(patches.Rectangle((start_pos[0]-0.1, start_pos[1]-0.1), 0.2, 0.2, facecolor='y'))\n",
    "    ax.add_patch(patches.Rectangle((goal_pos[0]-0.1, goal_pos[1]-0.1), 0.2, 0.2, facecolor='r'))\n",
    "                \n",
    "    ax.set_title(\"Visualization\")\n",
    "    ax.set_xlim(-2.5, 2.5)\n",
    "    ax.set_ylim(-2.5, 2.5)\n",
    "\n",
    "maze = Maze2D()\n",
    "maze.random_obstacles()\n",
    "maze.sample_start_goal()\n",
    "\n",
    "occ_grid = maze.get_small_occupancy_grid()\n",
    "visualize_data(occ_grid, maze.start, maze.goal)"
   ]
  },
  {
   "cell_type": "markdown",
   "metadata": {},
   "source": [
    "## Generate Data from Expert Path Planner"
   ]
  },
  {
   "cell_type": "markdown",
   "metadata": {},
   "source": [
    "To train a neural path planner, we need to generate a database of path planned by an expert path planner. There are numerous choices of path planners we can use. In this particular case, since our robot state is continuous, we choose to use the classic PRM motion planner. It firstly samples valid configurations of robot uniformly in the whole space and attempts to connect those configurations if the path between the states are collision-free. It results in a dense roadmap that captures the connectivity of the space. Finally, a discrete motion planner such as A* is used to find a path between a given start and goal configurations in the space. Another reason that PRM is particularly useful here is that it is multi-query planner, meaning the generated roadmap can be used to solve multiple queries of different start and goal configurations. \n",
    "\n",
    "To generate our path dataset, we sample 200 different mazes with number of obstacles ranging from 5 to 14. In each environment, we sample 500 random configurations and attempt to connect all valid configurations. We save the resultant roadmap as a networkx graph. "
   ]
  },
  {
   "cell_type": "markdown",
   "metadata": {},
   "source": [
    "### Generate Environments"
   ]
  },
  {
   "cell_type": "code",
   "execution_count": null,
   "metadata": {},
   "outputs": [],
   "source": [
    "import networkx as nx\n",
    "import matplotlib.pyplot as plt\n",
    "import numpy as np\n",
    "import json\n",
    "import itertools\n",
    "import random\n",
    "\n",
    "maze = Maze2D()\n",
    "\n",
    "env_num = 200\n",
    "\n",
    "sparse_num = 100\n",
    "dense_num = 500\n",
    "\n",
    "for i in range(env_num):\n",
    "    # save\n",
    "    directory = osp.join(\"./dataset/{}\".format(i))\n",
    "    if not osp.exists(directory):\n",
    "        os.makedirs(directory)\n",
    "\n",
    "    num_of_boxes = 5 + i // 50\n",
    "\n",
    "    # env\n",
    "    maze.clear_obstacles()\n",
    "    maze.random_obstacles(num_of_boxes=num_of_boxes)\n",
    "    occ_grid = np.array(maze.get_occupancy_grid()).reshape(50, 50)\n",
    "    occ_grid_small = maze.get_small_occupancy_grid()\n",
    "    obstacle_dict = maze.get_obstacle_dict()\n",
    "    maze.sample_start_goal()\n",
    "    maze.robot.set_state(maze.start)\n",
    "\n",
    "    # dense states\n",
    "    states = []\n",
    "    col_status = []\n",
    "    low = maze.robot.get_joint_lower_bounds()\n",
    "    high = maze.robot.get_joint_higher_bounds()\n",
    "    for _ in range(dense_num):\n",
    "        random_state = [0] * maze.robot.num_dim\n",
    "        for i in range(maze.robot.num_dim):\n",
    "            random_state[i] = random.uniform(low[i], high[i])\n",
    "        col_status.append(maze.is_state_valid(random_state)) # mark collision states\n",
    "        states.append(random_state)\n",
    "\n",
    "    dense_G = nx.DiGraph()\n",
    "    dense_G.add_nodes_from([(\"n{}\".format(i), {\"coords\": ','.join(map(str, state)), \"col\": not col_status[i]}) for i, state in enumerate(states)])\n",
    "\n",
    "    # save\n",
    "    # node_pos = np.array(states)\n",
    "    node_pos = np.array([utils.state_to_numpy(dense_G.nodes[node]['coords']) for node in dense_G.nodes()])\n",
    "    utils.visualize_nodes(occ_grid_small, node_pos, None, None, show=False, save=True, file_name=osp.join(directory, \"dense.png\"))\n",
    "    node_pos = np.array([utils.state_to_numpy(dense_G.nodes[node]['coords']) for node in dense_G.nodes() if not dense_G.nodes[node]['col']])\n",
    "    utils.visualize_nodes(occ_grid_small, node_pos, None, None, show=False, save=True, file_name=osp.join(directory, \"dense_free.png\"))\n",
    "\n",
    "    print(\"connecting dense graph\")\n",
    "    nodes = dense_G.nodes()\n",
    "    node_pairs = itertools.combinations(nodes, 2)\n",
    "    # print(list(node_pairs))\n",
    "    for node_pair in node_pairs:\n",
    "        if not dense_G.has_edge(node_pair[0], node_pair[1]):\n",
    "            s1 = dense_G.nodes[node_pair[0]]['coords']\n",
    "            s2 = dense_G.nodes[node_pair[1]]['coords']\n",
    "            if utils.is_edge_free(maze, s1, s2):\n",
    "                dense_G.add_edge(node_pair[0], node_pair[1])\n",
    "                dense_G.add_edge(node_pair[1], node_pair[0])\n",
    "    for u,v in dense_G.edges:\n",
    "        dense_G[u][v]['weight'] = utils.calc_weight_states(dense_G.nodes[u]['coords'], dense_G.nodes[v]['coords'])\n",
    "\n",
    "    # save\n",
    "    nx.write_graphml(dense_G, osp.join(directory, \"dense_g.graphml\"))\n",
    "    with open(osp.join(directory, \"occ_grid.txt\"), 'w') as f:\n",
    "        np.savetxt(f, occ_grid_small.reshape(1, -1))\n",
    "    with open(osp.join(directory, \"obstacle_dict.json\"), 'w') as f:\n",
    "        json.dump(obstacle_dict, f)\n",
    "    utils.visualize_nodes(occ_grid_small, [], None, None, show=False, save=True, file_name=osp.join(directory, \"occ_grid.png\"))"
   ]
  },
  {
   "cell_type": "markdown",
   "metadata": {},
   "source": [
    "### Generata Path"
   ]
  },
  {
   "cell_type": "markdown",
   "metadata": {},
   "source": [
    "We want to collect multiple paths from a single generated environment. Therefore, we first load the saved roadmap graph, and subsequently nvoke Astar path planner to find shortest path between each possible pair of start and goal configurations. If a path is found, we add to our dataset.\n",
    "\n",
    "Here we ignore path that contains only 2 waypoints. Intuitively, a path with two waypoints means that the start configuration and goal configuration of the robot can be connected by a straigh line. As our environment is not very cluttered, the majority of the path in our dataset may constitute such a straight-line path. This imbalance might incur problems in the latter training stage. "
   ]
  },
  {
   "cell_type": "code",
   "execution_count": 17,
   "metadata": {},
   "outputs": [
    {
     "name": "stdout",
     "output_type": "stream",
     "text": [
      "generating paths in env 0\n"
     ]
    },
    {
     "ename": "KeyboardInterrupt",
     "evalue": "",
     "output_type": "error",
     "traceback": [
      "\u001b[0;31m---------------------------------------------------------------------------\u001b[0m",
      "\u001b[0;31mKeyboardInterrupt\u001b[0m                         Traceback (most recent call last)",
      "\u001b[0;32m<ipython-input-17-c6c4415eb131>\u001b[0m in \u001b[0;36m<module>\u001b[0;34m\u001b[0m\n\u001b[1;32m     38\u001b[0m \u001b[0;34m\u001b[0m\u001b[0m\n\u001b[1;32m     39\u001b[0m         \u001b[0mgoal_pos\u001b[0m \u001b[0;34m=\u001b[0m \u001b[0mutils\u001b[0m\u001b[0;34m.\u001b[0m\u001b[0mstate_to_numpy\u001b[0m\u001b[0;34m(\u001b[0m\u001b[0mdense_G\u001b[0m\u001b[0;34m.\u001b[0m\u001b[0mnodes\u001b[0m\u001b[0;34m[\u001b[0m\u001b[0mgoal_n\u001b[0m\u001b[0;34m]\u001b[0m\u001b[0;34m[\u001b[0m\u001b[0;34m'coords'\u001b[0m\u001b[0;34m]\u001b[0m\u001b[0;34m)\u001b[0m\u001b[0;34m.\u001b[0m\u001b[0mtolist\u001b[0m\u001b[0;34m(\u001b[0m\u001b[0;34m)\u001b[0m\u001b[0;34m\u001b[0m\u001b[0;34m\u001b[0m\u001b[0m\n\u001b[0;32m---> 40\u001b[0;31m         \u001b[0mpath_nodes\u001b[0m\u001b[0;34m,\u001b[0m \u001b[0mdis\u001b[0m \u001b[0;34m=\u001b[0m \u001b[0mastar\u001b[0m\u001b[0;34m.\u001b[0m\u001b[0mastar\u001b[0m\u001b[0;34m(\u001b[0m\u001b[0mdense_G\u001b[0m\u001b[0;34m,\u001b[0m \u001b[0mstart_n\u001b[0m\u001b[0;34m,\u001b[0m \u001b[0mgoal_n\u001b[0m\u001b[0;34m,\u001b[0m \u001b[0mocc_grid\u001b[0m\u001b[0;34m,\u001b[0m \u001b[0;32mNone\u001b[0m\u001b[0;34m,\u001b[0m \u001b[0;32mNone\u001b[0m\u001b[0;34m,\u001b[0m \u001b[0;32mNone\u001b[0m\u001b[0;34m)\u001b[0m\u001b[0;34m\u001b[0m\u001b[0;34m\u001b[0m\u001b[0m\n\u001b[0m\u001b[1;32m     41\u001b[0m \u001b[0;34m\u001b[0m\u001b[0m\n\u001b[1;32m     42\u001b[0m         \u001b[0;31m# sanity check\u001b[0m\u001b[0;34m\u001b[0m\u001b[0;34m\u001b[0m\u001b[0;34m\u001b[0m\u001b[0m\n",
      "\u001b[0;32m~/work/CS5242-neural-motion-planning/astar.py\u001b[0m in \u001b[0;36mastar\u001b[0;34m(G, start_v, goal_v, occ_g, row, col, inc, h_weight)\u001b[0m\n\u001b[1;32m     47\u001b[0m         \u001b[0;32mfor\u001b[0m \u001b[0mv\u001b[0m \u001b[0;32min\u001b[0m \u001b[0mnext_cur\u001b[0m\u001b[0;34m:\u001b[0m\u001b[0;34m\u001b[0m\u001b[0;34m\u001b[0m\u001b[0m\n\u001b[1;32m     48\u001b[0m             \u001b[0;31m# dis_v = dis + compute_distance_id(G, cur, v)\u001b[0m\u001b[0;34m\u001b[0m\u001b[0;34m\u001b[0m\u001b[0;34m\u001b[0m\u001b[0m\n\u001b[0;32m---> 49\u001b[0;31m             \u001b[0mdis_v\u001b[0m \u001b[0;34m=\u001b[0m \u001b[0mdis\u001b[0m \u001b[0;34m+\u001b[0m \u001b[0mG\u001b[0m\u001b[0;34m[\u001b[0m\u001b[0mcur\u001b[0m\u001b[0;34m]\u001b[0m\u001b[0;34m[\u001b[0m\u001b[0mv\u001b[0m\u001b[0;34m]\u001b[0m\u001b[0;34m[\u001b[0m\u001b[0;34m'weight'\u001b[0m\u001b[0;34m]\u001b[0m\u001b[0;34m\u001b[0m\u001b[0;34m\u001b[0m\u001b[0m\n\u001b[0m\u001b[1;32m     50\u001b[0m             \u001b[0;31m# dis_v = dis + helper.calc_weight_states(G.nodes[cur]['coords'], G.nodes[v]['coords'])\u001b[0m\u001b[0;34m\u001b[0m\u001b[0;34m\u001b[0m\u001b[0;34m\u001b[0m\u001b[0m\n\u001b[1;32m     51\u001b[0m \u001b[0;34m\u001b[0m\u001b[0m\n",
      "\u001b[0;32m~/anaconda3/envs/wbmp/lib/python3.8/site-packages/networkx/classes/coreviews.py\u001b[0m in \u001b[0;36m__getitem__\u001b[0;34m(self, key)\u001b[0m\n\u001b[1;32m     48\u001b[0m         \u001b[0;32mreturn\u001b[0m \u001b[0miter\u001b[0m\u001b[0;34m(\u001b[0m\u001b[0mself\u001b[0m\u001b[0;34m.\u001b[0m\u001b[0m_atlas\u001b[0m\u001b[0;34m)\u001b[0m\u001b[0;34m\u001b[0m\u001b[0;34m\u001b[0m\u001b[0m\n\u001b[1;32m     49\u001b[0m \u001b[0;34m\u001b[0m\u001b[0m\n\u001b[0;32m---> 50\u001b[0;31m     \u001b[0;32mdef\u001b[0m \u001b[0m__getitem__\u001b[0m\u001b[0;34m(\u001b[0m\u001b[0mself\u001b[0m\u001b[0;34m,\u001b[0m \u001b[0mkey\u001b[0m\u001b[0;34m)\u001b[0m\u001b[0;34m:\u001b[0m\u001b[0;34m\u001b[0m\u001b[0;34m\u001b[0m\u001b[0m\n\u001b[0m\u001b[1;32m     51\u001b[0m         \u001b[0;32mreturn\u001b[0m \u001b[0mself\u001b[0m\u001b[0;34m.\u001b[0m\u001b[0m_atlas\u001b[0m\u001b[0;34m[\u001b[0m\u001b[0mkey\u001b[0m\u001b[0;34m]\u001b[0m\u001b[0;34m\u001b[0m\u001b[0;34m\u001b[0m\u001b[0m\n\u001b[1;32m     52\u001b[0m \u001b[0;34m\u001b[0m\u001b[0m\n",
      "\u001b[0;31mKeyboardInterrupt\u001b[0m: "
     ]
    }
   ],
   "source": [
    "import os.path as osp\n",
    "import sys\n",
    "import networkx as nx\n",
    "import matplotlib.pyplot as plt\n",
    "import numpy as np\n",
    "import json\n",
    "import random\n",
    "import utils\n",
    "\n",
    "import astar\n",
    "\n",
    "maze = Maze2D()\n",
    "\n",
    "env_num = 200\n",
    "sample_num = 500\n",
    "\n",
    "dataset = []\n",
    "for i in range(env_num):\n",
    "    print(\"generating paths in env {}\".format(i))\n",
    "    maze.clear_obstacles()\n",
    "\n",
    "    data_dir = \"./dataset/{}\".format(i)\n",
    "    with open(osp.join(data_dir, \"obstacle_dict.json\"), 'r') as f:\n",
    "        obstacle_dict = json.load(f)\n",
    "        maze.load_obstacle_dict(obstacle_dict)\n",
    "\n",
    "    dense_G = nx.read_graphml(osp.join(data_dir, \"dense_g.graphml\"))\n",
    "    occ_grid = np.loadtxt(osp.join(data_dir, \"occ_grid.txt\")).tolist()\n",
    "\n",
    "    # sample trajectories\n",
    "    for start_n in dense_G.nodes():\n",
    "        if dense_G.nodes[start_n]['col']:\n",
    "            continue\n",
    "\n",
    "        for goal_n in dense_G.nodes():\n",
    "            if dense_G.nodes[goal_n]['col']:\n",
    "                continue\n",
    "\n",
    "        goal_pos = utils.state_to_numpy(dense_G.nodes[goal_n]['coords']).tolist()\n",
    "        path_nodes, dis = astar.astar(dense_G, start_n, goal_n, occ_grid, None, None, None)\n",
    "\n",
    "        # sanity check\n",
    "        total_dist = 0\n",
    "        if len(path_nodes) > 2:\n",
    "            for i, node in enumerate(path_nodes):\n",
    "                if i < len(path_nodes) - 1:\n",
    "                    start_pos = utils.state_to_numpy(dense_G.nodes[node]['coords']).tolist()\n",
    "                    next_pos = utils.state_to_numpy(dense_G.nodes[path_nodes[i + 1]]['coords']).tolist()\n",
    "                    dist = utils.calc_weight_states(start_pos, next_pos)\n",
    "                    total_dist += dist\n",
    "            # print(total_dist, dis)\n",
    "            assert np.allclose(total_dist, dis)\n",
    "\n",
    "        if len(path_nodes) > 2:\n",
    "            path = []\n",
    "            for i, node in enumerate(path_nodes):\n",
    "                node_pos = utils.state_to_numpy(dense_G.nodes[node]['coords']).tolist()\n",
    "                path.append(node_pos)\n",
    "\n",
    "            dataset.append([start_pos, goal_pos, occ_grid, path])\n",
    "\n",
    "with open(\"./dataset/data_path.json\", 'w') as f:\n",
    "    json.dump(dataset, f)"
   ]
  },
  {
   "cell_type": "markdown",
   "metadata": {},
   "source": [
    "## Data Processing"
   ]
  },
  {
   "cell_type": "markdown",
   "metadata": {},
   "source": [
    "Our dataset contains a paths, a sequence of waypoints. However, our MLP and CNN models predicts only the next waypoints given the current robot configuration. Therefore, the dataset needs to be further processed so that a single training data gives the next waypoint."
   ]
  },
  {
   "cell_type": "code",
   "execution_count": null,
   "metadata": {},
   "outputs": [],
   "source": [
    "with open('./dataset/data_path.json', 'r') as _file:\n",
    "    data_path = json.load(_file)\n",
    "\n",
    "dataset_waypoint = []\n",
    "for data_point in data_path:\n",
    "    start_pos, goal_pos, occ_grid, path = data_point\n",
    "    for i in range(1, len(path)):\n",
    "        prev_pos = path[i - 1]\n",
    "        current_pos = path[i]\n",
    "        dataset_waypoint.append([prev_pos, goal_pos, occ_grid, current_pos])\n",
    "\n",
    "with open(\"./dataset/data_waypoint.json\", 'w') as f:\n",
    "    json.dump(dataset_waypoint, f)"
   ]
  },
  {
   "cell_type": "markdown",
   "id": "1c44b554",
   "metadata": {},
   "source": [
    "# Visualization of the generated data"
   ]
  },
  {
   "cell_type": "code",
   "execution_count": 1,
   "id": "523965c2",
   "metadata": {},
   "outputs": [],
   "source": [
    "import json\n",
    "import matplotlib.pyplot as plt\n",
    "import matplotlib.patches as patches\n",
    "import numpy as np\n",
    "DATA_FILE_PATH_TO_LOAD = './dataset/data_waypoints.json'\n",
    "RAW_DATA = None"
   ]
  },
  {
   "cell_type": "code",
   "execution_count": 2,
   "id": "db083bb4",
   "metadata": {},
   "outputs": [],
   "source": [
    "def visualize_data(occ_g, start_pos, goal_pos, path, predicted_path=None):\n",
    "    occ_g = np.array(occ_g).reshape(10, 10)\n",
    "    fig, ax = plt.subplots(1, figsize=(10, 10), dpi=100)\n",
    "    occ_grid_size = occ_g.shape[0]\n",
    "    tmp = occ_grid_size / 4.0 - 0.25\n",
    "    s = (10.0 / occ_grid_size * 100 / 2) ** 2 + 500\n",
    "    for i in range(occ_grid_size):\n",
    "        for j in range(occ_grid_size):\n",
    "            if occ_g[i,j] == 1:\n",
    "                plt.scatter(j/2.0 - tmp, tmp - i/2.0, color=\"black\", marker='s', s=s, alpha=1) # init\n",
    "\n",
    "    ax.add_patch(patches.Rectangle((start_pos[0]-0.1, start_pos[1]-0.1), 0.2, 0.2, facecolor='y'))\n",
    "    ax.add_patch(patches.Rectangle((goal_pos[0]-0.1, goal_pos[1]-0.1), 0.2, 0.2, facecolor='r'))\n",
    "    for i, next_pos in enumerate(path):\n",
    "        ax.text(next_pos[0]+0.06, next_pos[1]+0.06, str(i), {'color': 'g', 'size': 'large'})\n",
    "        ax.add_patch(patches.Rectangle((next_pos[0]-0.07, next_pos[1]-0.07), 0.14, 0.14, facecolor='g'))\n",
    "    if predicted_path is not None:\n",
    "        for i, predicted_pos in enumerate(predicted_path):\n",
    "            ax.text(predicted_pos[0] - 0.11, predicted_pos[1] - 0.11, str(i), {'color': 'b', 'size': 'large'})\n",
    "            ax.add_patch(patches.Rectangle((predicted_pos[0]-0.05, predicted_pos[1]-0.05), 0.1, 0.1, facecolor='b'))\n",
    "\n",
    "    ax.set_title(\"Visualization\")\n",
    "    ax.set_xlim(-2.5,2.5)\n",
    "    ax.set_ylim(-2.5,2.5)"
   ]
  },
  {
   "cell_type": "code",
   "execution_count": 3,
   "id": "ba77f9c8",
   "metadata": {},
   "outputs": [],
   "source": [
    "if RAW_DATA is None:\n",
    "    with open(DATA_FILE_PATH_TO_LOAD) as _file:\n",
    "        RAW_DATA = json.load(_file)"
   ]
  },
  {
   "cell_type": "code",
   "execution_count": 9,
   "id": "84210a9c",
   "metadata": {},
   "outputs": [],
   "source": []
  },
  {
   "cell_type": "markdown",
   "id": "7e90dc01",
   "metadata": {},
   "source": [
    "Randomly visualze a single data point.\n",
    "\n",
    "- Black: obstacles\n",
    "- Red: goal position\n",
    "- Yellow: current position\n",
    "- Green: the next position the robot should take"
   ]
  },
  {
   "cell_type": "code",
   "execution_count": 4,
   "id": "502e2fc3",
   "metadata": {},
   "outputs": [
    {
     "data": {
      "image/png": "[encoded data removed]",
      "text/plain": [
       "<Figure size 1000x1000 with 1 Axes>"
      ]
     },
     "metadata": {
      "needs_background": "light"
     },
     "output_type": "display_data"
    }
   ],
   "source": [
    "idx = np.random.randint(len(RAW_DATA))\n",
    "current_pos, goal_pos, occ_grid, next_pos = RAW_DATA[idx]\n",
    "visualize_data(occ_grid, current_pos, goal_pos, [next_pos])"
   ]
  },
  {
   "cell_type": "code",
   "execution_count": null,
   "id": "00d73f4e",
   "metadata": {},
   "outputs": [],
   "source": []
  },
  {
   "cell_type": "markdown",
   "id": "c0a7a066",
   "metadata": {},
   "source": [
    "# Training"
   ]
  },
  {
   "cell_type": "code",
   "execution_count": 7,
   "id": "7980230b",
   "metadata": {},
   "outputs": [
    {
     "name": "stdout",
     "output_type": "stream",
     "text": [
      "cuda\n"
     ]
    }
   ],
   "source": [
    "import torch\n",
    "import torch.nn as nn\n",
    "from torch.utils.data import Dataset, DataLoader\n",
    "DEVICE = torch.device(\"cuda\" if torch.cuda.is_available() else \"cpu\")\n",
    "print(DEVICE)"
   ]
  },
  {
   "cell_type": "markdown",
   "id": "21fbda5a",
   "metadata": {},
   "source": [
    "## Definitions of networks and dataloaders"
   ]
  },
  {
   "cell_type": "markdown",
   "id": "83e9aeb8",
   "metadata": {},
   "source": [
    "### MLP"
   ]
  },
  {
   "cell_type": "code",
   "execution_count": 8,
   "id": "cee5e1b7",
   "metadata": {},
   "outputs": [],
   "source": [
    "class MLPDataset(Dataset):\n",
    "    \"\"\"A dataset class for the MLP.\n",
    "    \n",
    "    Input: A vector that concat current position, goal position and occupancy grid vector\n",
    "    Output: Next position\n",
    "    \"\"\"\n",
    "    def __init__(self, raw_data, transform=None, target_transform=None, device=\"cpu\"):\n",
    "        self.transform = transform\n",
    "        self.target_transform = target_transform\n",
    "        self.device = device\n",
    "        self.dataset = raw_data\n",
    "        print(\"dataset size = {}\".format(len(self.dataset)))\n",
    "\n",
    "    def __len__(self):\n",
    "        return len(self.dataset)\n",
    "\n",
    "    def __getitem__(self, idx):\n",
    "        start_pos, goal_pos, occ_grid, next_pos = self.dataset[idx]\n",
    "\n",
    "        dim = len(start_pos)\n",
    "        start_pos = torch.Tensor(start_pos)\n",
    "        goal_pos = torch.Tensor(goal_pos)\n",
    "        occ_grid = torch.Tensor(occ_grid)\n",
    "        next_pos = torch.Tensor(next_pos)\n",
    "\n",
    "        input = torch.cat((start_pos, goal_pos, occ_grid), dim=0).to(self.device)\n",
    "        next_pos = next_pos.to(self.device)\n",
    "\n",
    "        return input, next_pos\n",
    "\n",
    "    @classmethod\n",
    "    def load_dataset_from_file(cls, file_path, device='cpu'):\n",
    "        print(\"Loading data from {}\".format(file_path))\n",
    "        with open(file_path, 'r') as f:\n",
    "            dataset = json.load(f)\n",
    "        return cls(dataset, device=device)"
   ]
  },
  {
   "cell_type": "code",
   "execution_count": 9,
   "id": "9227eae9",
   "metadata": {},
   "outputs": [],
   "source": [
    "class MLPModel(nn.Module):\n",
    "    \"\"\"A trivially simple MLP model.\"\"\"\n",
    "    def __init__(self, **kwargs):\n",
    "        super().__init__(**kwargs)\n",
    "        \n",
    "        self.layers = nn.Sequential(\n",
    "            nn.Linear(104, 512),\n",
    "            nn.BatchNorm1d(512),\n",
    "            nn.ReLU(),\n",
    "            nn.Linear(512, 512),\n",
    "            nn.BatchNorm1d(512),\n",
    "            nn.ReLU(),\n",
    "            nn.Linear(512, 512),\n",
    "            nn.BatchNorm1d(512),\n",
    "            nn.ReLU(),\n",
    "            nn.Linear(512, 64),\n",
    "            nn.ReLU(),\n",
    "            nn.Linear(64, 2)\n",
    "        )\n",
    "\n",
    "    def forward(self, inputs):\n",
    "        return self.layers(inputs)"
   ]
  },
  {
   "cell_type": "markdown",
   "id": "7e0ca71e",
   "metadata": {},
   "source": [
    "## Training loop"
   ]
  },
  {
   "cell_type": "markdown",
   "id": "135cb441",
   "metadata": {},
   "source": [
    "Choose the network and dataloader classes"
   ]
  },
  {
   "cell_type": "code",
   "execution_count": 10,
   "id": "8387e74c",
   "metadata": {},
   "outputs": [],
   "source": [
    "dataset_cls = MLPDataset\n",
    "network_cls = MLPModel\n",
    "criterion = torch.nn.MSELoss()\n",
    "model_save_path = './models/mlp.pt'"
   ]
  },
  {
   "cell_type": "markdown",
   "id": "191edde8",
   "metadata": {},
   "source": [
    "Load the data"
   ]
  },
  {
   "cell_type": "code",
   "execution_count": 11,
   "id": "74b1772f",
   "metadata": {},
   "outputs": [
    {
     "name": "stdout",
     "output_type": "stream",
     "text": [
      "dataset size = 68957\n"
     ]
    }
   ],
   "source": [
    "dataset = dataset_cls(RAW_DATA, device=DEVICE)"
   ]
  },
  {
   "cell_type": "markdown",
   "id": "7a616f6b",
   "metadata": {},
   "source": [
    "Initialize the model"
   ]
  },
  {
   "cell_type": "code",
   "execution_count": 13,
   "id": "2b8fa944",
   "metadata": {},
   "outputs": [],
   "source": [
    "model = MLPModel().to(DEVICE)"
   ]
  },
  {
   "cell_type": "markdown",
   "id": "bdadb072",
   "metadata": {},
   "source": [
    "Run the training loop"
   ]
  },
  {
   "cell_type": "code",
   "execution_count": 14,
   "id": "b46440e7",
   "metadata": {},
   "outputs": [],
   "source": [
    "train_size = int(len(dataset) * 0.9)\n",
    "batch_size = 64\n",
    "learning_rate = 1e-4\n",
    "num_epochs=10\n",
    "optimizer = torch.optim.Adam(model.parameters(), lr=learning_rate)"
   ]
  },
  {
   "cell_type": "code",
   "execution_count": 15,
   "id": "b46dae64",
   "metadata": {},
   "outputs": [],
   "source": [
    "train_set = torch.utils.data.Subset(dataset, np.arange(train_size))\n",
    "val_set = torch.utils.data.Subset(dataset, np.arange(train_size, len(dataset)))\n",
    "train_dataloader = DataLoader(train_set, batch_size=batch_size, shuffle=True)\n",
    "eval_dataloader = DataLoader(val_set, batch_size=1)"
   ]
  },
  {
   "cell_type": "code",
   "execution_count": 16,
   "id": "93ac2dd5",
   "metadata": {},
   "outputs": [
    {
     "name": "stdout",
     "output_type": "stream",
     "text": [
      "-----------------Total loss after mini-batch     0, epoch 0 : 1.511\n",
      "saved session to  ./models/mlp.pt\n",
      "-----------------Total loss after mini-batch   100, epoch 0 : 0.264\n",
      "-----------------Total loss after mini-batch   200, epoch 0 : 0.332\n",
      "-----------------Total loss after mini-batch   300, epoch 0 : 0.259\n",
      "-----------------Total loss after mini-batch   400, epoch 0 : 0.364\n",
      "-----------------Total loss after mini-batch   500, epoch 0 : 0.418\n",
      "saved session to  ./models/mlp.pt\n",
      "-----------------Total loss after mini-batch   600, epoch 0 : 0.262\n",
      "-----------------Total loss after mini-batch   700, epoch 0 : 0.210\n",
      "-----------------Total loss after mini-batch   800, epoch 0 : 0.190\n",
      "-----------------Total loss after mini-batch   900, epoch 0 : 0.245\n",
      "Evaluation----\n",
      "-----------------Total loss after epoch     0: 0.532\n",
      "-----------------Total loss after mini-batch  1000, epoch 1 : 0.218\n",
      "saved session to  ./models/mlp.pt\n",
      "-----------------Total loss after mini-batch  1100, epoch 1 : 0.224\n",
      "-----------------Total loss after mini-batch  1200, epoch 1 : 0.200\n",
      "-----------------Total loss after mini-batch  1300, epoch 1 : 0.197\n",
      "-----------------Total loss after mini-batch  1400, epoch 1 : 0.179\n",
      "-----------------Total loss after mini-batch  1500, epoch 1 : 0.211\n",
      "saved session to  ./models/mlp.pt\n",
      "-----------------Total loss after mini-batch  1600, epoch 1 : 0.221\n",
      "-----------------Total loss after mini-batch  1700, epoch 1 : 0.138\n",
      "-----------------Total loss after mini-batch  1800, epoch 1 : 0.272\n",
      "-----------------Total loss after mini-batch  1900, epoch 1 : 0.141\n",
      "-----------------Total loss after mini-batch  2000, epoch 2 : 0.204\n",
      "saved session to  ./models/mlp.pt\n",
      "-----------------Total loss after mini-batch  2100, epoch 2 : 0.220\n",
      "-----------------Total loss after mini-batch  2200, epoch 2 : 0.096\n",
      "-----------------Total loss after mini-batch  2300, epoch 2 : 0.122\n",
      "-----------------Total loss after mini-batch  2400, epoch 2 : 0.215\n",
      "-----------------Total loss after mini-batch  2500, epoch 2 : 0.145\n",
      "saved session to  ./models/mlp.pt\n",
      "-----------------Total loss after mini-batch  2600, epoch 2 : 0.110\n",
      "-----------------Total loss after mini-batch  2700, epoch 2 : 0.123\n",
      "-----------------Total loss after mini-batch  2800, epoch 2 : 0.137\n",
      "-----------------Total loss after mini-batch  2900, epoch 2 : 0.118\n",
      "-----------------Total loss after mini-batch  3000, epoch 3 : 0.170\n",
      "saved session to  ./models/mlp.pt\n",
      "-----------------Total loss after mini-batch  3100, epoch 3 : 0.118\n",
      "-----------------Total loss after mini-batch  3200, epoch 3 : 0.255\n",
      "-----------------Total loss after mini-batch  3300, epoch 3 : 0.162\n",
      "-----------------Total loss after mini-batch  3400, epoch 3 : 0.159\n",
      "-----------------Total loss after mini-batch  3500, epoch 3 : 0.137\n",
      "saved session to  ./models/mlp.pt\n",
      "-----------------Total loss after mini-batch  3600, epoch 3 : 0.220\n",
      "-----------------Total loss after mini-batch  3700, epoch 3 : 0.120\n",
      "-----------------Total loss after mini-batch  3800, epoch 3 : 0.143\n",
      "-----------------Total loss after mini-batch  3900, epoch 4 : 0.080\n",
      "-----------------Total loss after mini-batch  4000, epoch 4 : 0.132\n",
      "saved session to  ./models/mlp.pt\n",
      "-----------------Total loss after mini-batch  4100, epoch 4 : 0.179\n",
      "-----------------Total loss after mini-batch  4200, epoch 4 : 0.121\n",
      "-----------------Total loss after mini-batch  4300, epoch 4 : 0.221\n",
      "-----------------Total loss after mini-batch  4400, epoch 4 : 0.167\n",
      "-----------------Total loss after mini-batch  4500, epoch 4 : 0.144\n",
      "saved session to  ./models/mlp.pt\n",
      "-----------------Total loss after mini-batch  4600, epoch 4 : 0.114\n",
      "-----------------Total loss after mini-batch  4700, epoch 4 : 0.134\n",
      "-----------------Total loss after mini-batch  4800, epoch 4 : 0.111\n",
      "-----------------Total loss after mini-batch  4900, epoch 5 : 0.127\n",
      "-----------------Total loss after mini-batch  5000, epoch 5 : 0.093\n",
      "saved session to  ./models/mlp.pt\n",
      "-----------------Total loss after mini-batch  5100, epoch 5 : 0.141\n",
      "-----------------Total loss after mini-batch  5200, epoch 5 : 0.119\n",
      "-----------------Total loss after mini-batch  5300, epoch 5 : 0.072\n",
      "-----------------Total loss after mini-batch  5400, epoch 5 : 0.114\n",
      "-----------------Total loss after mini-batch  5500, epoch 5 : 0.158\n",
      "saved session to  ./models/mlp.pt\n",
      "-----------------Total loss after mini-batch  5600, epoch 5 : 0.150\n",
      "-----------------Total loss after mini-batch  5700, epoch 5 : 0.205\n",
      "-----------------Total loss after mini-batch  5800, epoch 5 : 0.164\n",
      "Evaluation----\n",
      "-----------------Total loss after epoch     5: 0.556\n",
      "-----------------Total loss after mini-batch  5900, epoch 6 : 0.089\n",
      "-----------------Total loss after mini-batch  6000, epoch 6 : 0.149\n",
      "saved session to  ./models/mlp.pt\n",
      "-----------------Total loss after mini-batch  6100, epoch 6 : 0.210\n",
      "-----------------Total loss after mini-batch  6200, epoch 6 : 0.221\n",
      "-----------------Total loss after mini-batch  6300, epoch 6 : 0.296\n",
      "-----------------Total loss after mini-batch  6400, epoch 6 : 0.148\n",
      "-----------------Total loss after mini-batch  6500, epoch 6 : 0.134\n",
      "saved session to  ./models/mlp.pt\n",
      "-----------------Total loss after mini-batch  6600, epoch 6 : 0.131\n",
      "-----------------Total loss after mini-batch  6700, epoch 6 : 0.134\n",
      "-----------------Total loss after mini-batch  6800, epoch 7 : 0.135\n",
      "-----------------Total loss after mini-batch  6900, epoch 7 : 0.196\n",
      "-----------------Total loss after mini-batch  7000, epoch 7 : 0.090\n",
      "saved session to  ./models/mlp.pt\n",
      "-----------------Total loss after mini-batch  7100, epoch 7 : 0.199\n",
      "-----------------Total loss after mini-batch  7200, epoch 7 : 0.071\n",
      "-----------------Total loss after mini-batch  7300, epoch 7 : 0.173\n",
      "-----------------Total loss after mini-batch  7400, epoch 7 : 0.119\n",
      "-----------------Total loss after mini-batch  7500, epoch 7 : 0.147\n",
      "saved session to  ./models/mlp.pt\n",
      "-----------------Total loss after mini-batch  7600, epoch 7 : 0.109\n",
      "-----------------Total loss after mini-batch  7700, epoch 7 : 0.216\n",
      "-----------------Total loss after mini-batch  7800, epoch 8 : 0.111\n",
      "-----------------Total loss after mini-batch  7900, epoch 8 : 0.130\n",
      "-----------------Total loss after mini-batch  8000, epoch 8 : 0.119\n",
      "saved session to  ./models/mlp.pt\n",
      "-----------------Total loss after mini-batch  8100, epoch 8 : 0.154\n",
      "-----------------Total loss after mini-batch  8200, epoch 8 : 0.186\n",
      "-----------------Total loss after mini-batch  8300, epoch 8 : 0.092\n",
      "-----------------Total loss after mini-batch  8400, epoch 8 : 0.114\n",
      "-----------------Total loss after mini-batch  8500, epoch 8 : 0.058\n",
      "saved session to  ./models/mlp.pt\n",
      "-----------------Total loss after mini-batch  8600, epoch 8 : 0.146\n",
      "-----------------Total loss after mini-batch  8700, epoch 8 : 0.151\n",
      "-----------------Total loss after mini-batch  8800, epoch 9 : 0.111\n",
      "-----------------Total loss after mini-batch  8900, epoch 9 : 0.151\n",
      "-----------------Total loss after mini-batch  9000, epoch 9 : 0.136\n",
      "saved session to  ./models/mlp.pt\n",
      "-----------------Total loss after mini-batch  9100, epoch 9 : 0.160\n",
      "-----------------Total loss after mini-batch  9200, epoch 9 : 0.053\n",
      "-----------------Total loss after mini-batch  9300, epoch 9 : 0.128\n",
      "-----------------Total loss after mini-batch  9400, epoch 9 : 0.132\n",
      "-----------------Total loss after mini-batch  9500, epoch 9 : 0.095\n",
      "saved session to  ./models/mlp.pt\n",
      "-----------------Total loss after mini-batch  9600, epoch 9 : 0.133\n"
     ]
    }
   ],
   "source": [
    "torch.autograd.set_detect_anomaly(True)\n",
    "\n",
    "# Run the training loop\n",
    "i = 0\n",
    "for epoch in range(num_epochs):\n",
    "    model.train()\n",
    "    for data in train_dataloader:\n",
    "        # Get batch of data\n",
    "        inputs, labels = data\n",
    "        # Zero the gradients\n",
    "        optimizer.zero_grad()\n",
    "        # Perform forward pass\n",
    "        network_output = model.forward(inputs)\n",
    "        # Compute loss\n",
    "        loss = criterion(network_output, labels)\n",
    "        # Ensure no funny numerics\n",
    "        assert not torch.isnan(loss).any()\n",
    "        # Perform backward pass\n",
    "        loss.backward()\n",
    "        # \n",
    "        torch.nn.utils.clip_grad_norm_(model.parameters(), 10.0)\n",
    "        # Perform optimization\n",
    "        optimizer.step()\n",
    "        # Print statistics\n",
    "        current_loss = loss.item()\n",
    "        if i % 100 == 0:\n",
    "            print('-----------------Total loss after mini-batch %5d, epoch %d : %.3f' % (i, epoch, current_loss))\n",
    "            current_loss = 0.0\n",
    "        if i % 500 == 0:\n",
    "            torch.save(model.state_dict(), model_save_path)\n",
    "            print(\"saved session to \", model_save_path)\n",
    "\n",
    "        i+=1\n",
    "\n",
    "    if epoch % 5 == 0:\n",
    "        # eval\n",
    "        model.eval()\n",
    "        total_loss = 0\n",
    "\n",
    "        for data in eval_dataloader:\n",
    "            # Get batch of data\n",
    "            inputs, labels = data\n",
    "            # Perform forward pass\n",
    "            network_output = model.forward(inputs)\n",
    "            # Compute loss\n",
    "            loss = criterion(network_output, labels)\n",
    "            total_loss += loss.detach().item()\n",
    "\n",
    "        print(\"Evaluation----\")\n",
    "        print('-----------------Total loss after epoch %5d: %.3f' % (epoch, total_loss / len(eval_dataloader)))"
   ]
  },
  {
   "cell_type": "markdown",
   "id": "f08ccbaf",
   "metadata": {},
   "source": [
    "## Visualize the prediction"
   ]
  },
  {
   "cell_type": "code",
   "execution_count": 13,
   "id": "6fc27758",
   "metadata": {},
   "outputs": [
    {
     "data": {
      "text/plain": [
       "MLPModel(\n",
       "  (layers): Sequential(\n",
       "    (0): Linear(in_features=104, out_features=512, bias=True)\n",
       "    (1): BatchNorm1d(512, eps=1e-05, momentum=0.1, affine=True, track_running_stats=True)\n",
       "    (2): ReLU()\n",
       "    (3): Linear(in_features=512, out_features=512, bias=True)\n",
       "    (4): BatchNorm1d(512, eps=1e-05, momentum=0.1, affine=True, track_running_stats=True)\n",
       "    (5): ReLU()\n",
       "    (6): Linear(in_features=512, out_features=512, bias=True)\n",
       "    (7): BatchNorm1d(512, eps=1e-05, momentum=0.1, affine=True, track_running_stats=True)\n",
       "    (8): ReLU()\n",
       "    (9): Linear(in_features=512, out_features=64, bias=True)\n",
       "    (10): ReLU()\n",
       "    (11): Linear(in_features=64, out_features=2, bias=True)\n",
       "  )\n",
       ")"
      ]
     },
     "execution_count": 13,
     "metadata": {},
     "output_type": "execute_result"
    }
   ],
   "source": [
    "model = network_cls()\n",
    "model.load_state_dict(torch.load(model_save_path))\n",
    "model.to(DEVICE)\n",
    "model.eval()"
   ]
  },
  {
   "cell_type": "code",
   "execution_count": 14,
   "id": "957a084a",
   "metadata": {},
   "outputs": [
    {
     "data": {
      "image/png": "[encoded data removed]",
      "text/plain": [
       "<Figure size 1000x1000 with 1 Axes>"
      ]
     },
     "metadata": {
      "needs_background": "light"
     },
     "output_type": "display_data"
    }
   ],
   "source": [
    "# TODO: only try validation set\n",
    "idx = np.random.randint(len(RAW_DATA))\n",
    "current_pos, goal_pos, occ_grid, next_pos = RAW_DATA[idx]\n",
    "predicted_pos = model.forward(dataset[idx][0].view(1, -1)).detach().cpu().numpy().flatten()\n",
    "visualize_data(occ_grid, current_pos, goal_pos, [next_pos], predicted_path=[predicted_pos])"
   ]
  },
  {
   "cell_type": "markdown",
   "id": "562d898a",
   "metadata": {},
   "source": [
    "# Motion planning test\n",
    "\n",
    "Test dataset (100 sets):\n",
    "- Obstacles\n",
    "- Start\n",
    "- Goal\n",
    "- Path of astar\n",
    "\n",
    "Evaluation metric:\n",
    "- Sucess: close to the goal within a tolerance, path not in collision\n",
    "- Path length: "
   ]
  },
  {
   "cell_type": "code",
   "execution_count": 5,
   "id": "fab137a2",
   "metadata": {},
   "outputs": [],
   "source": [
    "with open('./dataset/data_path.json') as _file:\n",
    "    PATHS_DATA = json.load(_file)"
   ]
  },
  {
   "cell_type": "code",
   "execution_count": 69,
   "id": "16a1bdf3",
   "metadata": {},
   "outputs": [
    {
     "data": {
      "image/png": "[encoded data removed]",
      "text/plain": [
       "<Figure size 1000x1000 with 1 Axes>"
      ]
     },
     "metadata": {
      "needs_background": "light"
     },
     "output_type": "display_data"
    }
   ],
   "source": [
    "idx = np.random.randint(len(PATHS_DATA))\n",
    "_, goal_pos_raw, occ_grid_raw, path = PATHS_DATA[idx]\n",
    "\n",
    "goal_pos_np = np.array(goal_pos_raw)\n",
    "current_pos = torch.Tensor(path[0]).to(DEVICE)\n",
    "goal_pos = torch.Tensor(goal_pos_raw).to(DEVICE)\n",
    "occ_grid = torch.Tensor(occ_grid_raw).to(DEVICE)\n",
    "it = 0\n",
    "predicted_path = []\n",
    "while np.linalg.norm(current_pos.detach().cpu().numpy().flatten() - goal_pos_np) > 0.2:\n",
    "    if it > 50:\n",
    "        print(\"Haven't reached goal after 50 iterations!\")\n",
    "        break\n",
    "    state = torch.cat((current_pos, goal_pos, occ_grid), dim=0).to(DEVICE)\n",
    "    current_pos = model.forward(state.view(1, -1)).detach()[0]\n",
    "    predicted_path.append(current_pos.detach().cpu().numpy().flatten())\n",
    "    it += 1\n",
    "    \n",
    "visualize_data(occ_grid_raw, path[0], goal_pos_raw, path[1:], predicted_path)"
   ]
  },
  {
   "cell_type": "code",
   "execution_count": null,
   "id": "42e5a137",
   "metadata": {},
   "outputs": [],
   "source": []
  },
  {
   "cell_type": "code",
   "execution_count": null,
   "id": "c604abfb",
   "metadata": {},
   "outputs": [],
   "source": []
  }
 ],
 "metadata": {
  "interpreter": {
   "hash": "b1513172bc75592431e687543e7a7e71518769f9e336f9ec823ad71ba40cd915"
  },
  "kernelspec": {
   "display_name": "Python 3.8.5 64-bit ('wbmp': conda)",
   "name": "python3"
  },
  "language_info": {
   "codemirror_mode": {
    "name": "ipython",
    "version": 3
   },
   "file_extension": ".py",
   "mimetype": "text/x-python",
   "name": "python",
   "nbconvert_exporter": "python",
   "pygments_lexer": "ipython3",
   "version": "3.8.5"
  }
 },
 "nbformat": 4,
 "nbformat_minor": 5
}
