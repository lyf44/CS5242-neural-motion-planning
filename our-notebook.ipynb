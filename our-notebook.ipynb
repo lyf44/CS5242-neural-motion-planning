{
 "cells": [
  {
   "cell_type": "code",
   "execution_count": 1,
   "id": "b4ef79b4",
   "metadata": {},
   "outputs": [],
   "source": [
    "import ipdb"
   ]
  },
  {
   "cell_type": "markdown",
   "id": "f313fd07",
   "metadata": {},
   "source": [
    "# Data generation"
   ]
  },
  {
   "cell_type": "markdown",
   "id": "aeaa7faa",
   "metadata": {},
   "source": [
    "## Generate data"
   ]
  },
  {
   "cell_type": "code",
   "execution_count": 2,
   "id": "c8dd910d",
   "metadata": {},
   "outputs": [],
   "source": [
    "# TODO:"
   ]
  },
  {
   "cell_type": "markdown",
   "id": "7e9e6349",
   "metadata": {},
   "source": [
    "## Save generated data"
   ]
  },
  {
   "cell_type": "code",
   "execution_count": 3,
   "id": "a8bc314c",
   "metadata": {},
   "outputs": [],
   "source": [
    "# TODO"
   ]
  },
  {
   "cell_type": "markdown",
   "id": "1c44b554",
   "metadata": {},
   "source": [
    "# Visualization of the generated data"
   ]
  },
  {
   "cell_type": "code",
   "execution_count": 4,
   "id": "523965c2",
   "metadata": {},
   "outputs": [],
   "source": [
    "import json\n",
    "import matplotlib.pyplot as plt\n",
    "import matplotlib.patches as patches\n",
    "import numpy as np\n",
    "DATA_FILE_PATH_TO_LOAD = './dataset/data_3_g.json'\n",
    "RAW_DATA = None"
   ]
  },
  {
   "cell_type": "code",
   "execution_count": 5,
   "id": "db083bb4",
   "metadata": {},
   "outputs": [],
   "source": [
    "def visualize_data(occ_g, current_pos, goal_pos, next_pos, predicted_pos=None):\n",
    "    occ_g = np.array(occ_g).reshape(10, 10)\n",
    "    fig, ax = plt.subplots(1, figsize=(10, 10), dpi=100)\n",
    "    occ_grid_size = occ_g.shape[0]\n",
    "    tmp = occ_grid_size / 4.0 - 0.25\n",
    "    s = (10.0 / occ_grid_size * 100 / 2) ** 2 + 500\n",
    "    for i in range(occ_grid_size):\n",
    "        for j in range(occ_grid_size):\n",
    "            if occ_g[i,j] == 1:\n",
    "                plt.scatter(j/2.0 - tmp, tmp - i/2.0, color=\"black\", marker='s', s=s, alpha=1) # init\n",
    "\n",
    "    ax.add_patch(patches.Rectangle((current_pos[0]-0.1, current_pos[1]-0.1), 0.2, 0.2, facecolor='y'))\n",
    "    ax.add_patch(patches.Rectangle((goal_pos[0]-0.1, goal_pos[1]-0.1), 0.2, 0.2, facecolor='r'))\n",
    "    ax.add_patch(patches.Rectangle((next_pos[0]-0.09, next_pos[1]-0.09), 0.18, 0.18, facecolor='g'))\n",
    "    if predicted_pos is not None:\n",
    "        ax.add_patch(patches.Rectangle((predicted_pos[0]-0.09, predicted_pos[1]-0.09), 0.18, 0.18, facecolor='b'))\n",
    "\n",
    "                \n",
    "    ax.set_title(\"Visualization\")\n",
    "    ax.set_xlim(-2.5,2.5)\n",
    "    ax.set_ylim(-2.5,2.5)"
   ]
  },
  {
   "cell_type": "code",
   "execution_count": 6,
   "id": "ba77f9c8",
   "metadata": {},
   "outputs": [],
   "source": [
    "if RAW_DATA is None:\n",
    "    with open(DATA_FILE_PATH_TO_LOAD) as _file:\n",
    "        RAW_DATA = json.load(_file)"
   ]
  },
  {
   "cell_type": "markdown",
   "id": "7e90dc01",
   "metadata": {},
   "source": [
    "Randomly visualze a single data point.\n",
    "\n",
    "- Black: obstacles\n",
    "- Red: goal position\n",
    "- Yellow: current position\n",
    "- Green: the next position the robot should take"
   ]
  },
  {
   "cell_type": "code",
   "execution_count": 72,
   "id": "502e2fc3",
   "metadata": {},
   "outputs": [
    {
     "data": {
      "image/png": "[encoded data removed]",
      "text/plain": [
       "<Figure size 1000x1000 with 1 Axes>"
      ]
     },
     "metadata": {
      "needs_background": "light"
     },
     "output_type": "display_data"
    }
   ],
   "source": [
    "idx = np.random.randint(len(RAW_DATA))\n",
    "current_pos, goal_pos, occ_grid, next_pos, _, _ = RAW_DATA[idx]\n",
    "visualize_data(occ_grid, current_pos, goal_pos, next_pos)"
   ]
  },
  {
   "cell_type": "code",
   "execution_count": null,
   "id": "00d73f4e",
   "metadata": {},
   "outputs": [],
   "source": []
  },
  {
   "cell_type": "markdown",
   "id": "c0a7a066",
   "metadata": {},
   "source": [
    "# Training"
   ]
  },
  {
   "cell_type": "code",
   "execution_count": 8,
   "id": "7980230b",
   "metadata": {},
   "outputs": [],
   "source": [
    "import torch\n",
    "import torch.nn as nn\n",
    "from torch.utils.data import Dataset, DataLoader\n",
    "DEVICE = torch.device(\"cuda\" if torch.cuda.is_available() else \"cpu\")"
   ]
  },
  {
   "cell_type": "markdown",
   "id": "21fbda5a",
   "metadata": {},
   "source": [
    "## Definitions of networks and dataloaders"
   ]
  },
  {
   "cell_type": "markdown",
   "id": "83e9aeb8",
   "metadata": {},
   "source": [
    "### MLP"
   ]
  },
  {
   "cell_type": "code",
   "execution_count": 9,
   "id": "cee5e1b7",
   "metadata": {},
   "outputs": [],
   "source": [
    "class MLPDataset(Dataset):\n",
    "    \"\"\"A dataset class for the MLP.\n",
    "    \n",
    "    Input: A vector that concat current position, goal position and occupancy grid vector\n",
    "    Output: Next position\n",
    "    \"\"\"\n",
    "    def __init__(self, raw_data, transform=None, target_transform=None, device=\"cpu\"):\n",
    "        self.transform = transform\n",
    "        self.target_transform = target_transform\n",
    "        self.device = device\n",
    "        self.dataset = raw_data\n",
    "        print(\"dataset size = {}\".format(len(self.dataset)))\n",
    "\n",
    "    def __len__(self):\n",
    "        return len(self.dataset)\n",
    "\n",
    "    def __getitem__(self, idx):\n",
    "        start_pos, goal_pos, occ_grid, next_pos, non_connectable_nodes, dist = self.dataset[idx]\n",
    "\n",
    "        dim = len(start_pos)\n",
    "        start_pos = torch.Tensor(start_pos)\n",
    "        goal_pos = torch.Tensor(goal_pos)\n",
    "        occ_grid = torch.Tensor(occ_grid)\n",
    "        next_pos = torch.Tensor(next_pos)\n",
    "\n",
    "        input = torch.cat((start_pos, goal_pos, occ_grid), dim=0).to(self.device)\n",
    "        next_pos = next_pos.to(self.device)\n",
    "\n",
    "        return input, next_pos\n",
    "\n",
    "    @classmethod\n",
    "    def load_dataset_from_file(cls, file_path, device='cpu'):\n",
    "        print(\"Loading data from {}\".format(file_path))\n",
    "        with open(file_path, 'r') as f:\n",
    "            dataset = json.load(f)\n",
    "        return cls(dataset, device=device)"
   ]
  },
  {
   "cell_type": "code",
   "execution_count": 10,
   "id": "9227eae9",
   "metadata": {},
   "outputs": [],
   "source": [
    "class MLPModel(nn.Module):\n",
    "    \"\"\"A trivially simple MLP model.\"\"\"\n",
    "    def __init__(self, **kwargs):\n",
    "        super().__init__(**kwargs)\n",
    "        \n",
    "        self.layers = nn.Sequential(\n",
    "            nn.Linear(104, 512),\n",
    "            nn.BatchNorm1d(512),\n",
    "            nn.ReLU(),\n",
    "            nn.Linear(512, 512),\n",
    "            nn.BatchNorm1d(512),\n",
    "            nn.ReLU(),\n",
    "            nn.Linear(512, 512),\n",
    "            nn.BatchNorm1d(512),\n",
    "            nn.ReLU(),\n",
    "            nn.Linear(512, 64),\n",
    "            nn.ReLU(),\n",
    "            nn.Linear(64, 2)\n",
    "        )\n",
    "\n",
    "    def forward(self, inputs):\n",
    "        return self.layers(inputs)"
   ]
  },
  {
   "cell_type": "markdown",
   "id": "7e0ca71e",
   "metadata": {},
   "source": [
    "## Training loop"
   ]
  },
  {
   "cell_type": "markdown",
   "id": "135cb441",
   "metadata": {},
   "source": [
    "Choose the network and dataloader classes"
   ]
  },
  {
   "cell_type": "code",
   "execution_count": 11,
   "id": "8387e74c",
   "metadata": {},
   "outputs": [],
   "source": [
    "dataset_cls = MLPDataset\n",
    "network_cls = MLPModel\n",
    "criterion = torch.nn.MSELoss()\n",
    "model_save_path = './models/mlp.pt'"
   ]
  },
  {
   "cell_type": "markdown",
   "id": "191edde8",
   "metadata": {},
   "source": [
    "Load the data"
   ]
  },
  {
   "cell_type": "code",
   "execution_count": 12,
   "id": "74b1772f",
   "metadata": {},
   "outputs": [
    {
     "name": "stdout",
     "output_type": "stream",
     "text": [
      "dataset size = 68957\n"
     ]
    }
   ],
   "source": [
    "dataset = dataset_cls(RAW_DATA, device=DEVICE)"
   ]
  },
  {
   "cell_type": "markdown",
   "id": "7a616f6b",
   "metadata": {},
   "source": [
    "Initialize the model"
   ]
  },
  {
   "cell_type": "code",
   "execution_count": 13,
   "id": "2b8fa944",
   "metadata": {},
   "outputs": [],
   "source": [
    "model = MLPModel().to(DEVICE)"
   ]
  },
  {
   "cell_type": "markdown",
   "id": "bdadb072",
   "metadata": {},
   "source": [
    "Run the training loop"
   ]
  },
  {
   "cell_type": "code",
   "execution_count": 14,
   "id": "b46440e7",
   "metadata": {},
   "outputs": [],
   "source": [
    "train_size = int(len(dataset) * 0.9)\n",
    "batch_size = 64\n",
    "learning_rate = 1e-4\n",
    "num_epochs=10\n",
    "optimizer = torch.optim.Adam(model.parameters(), lr=learning_rate)"
   ]
  },
  {
   "cell_type": "code",
   "execution_count": 15,
   "id": "b46dae64",
   "metadata": {},
   "outputs": [],
   "source": [
    "train_set = torch.utils.data.Subset(dataset, np.arange(train_size))\n",
    "val_set = torch.utils.data.Subset(dataset, np.arange(train_size, len(dataset)))\n",
    "train_dataloader = DataLoader(train_set, batch_size=batch_size, shuffle=True)\n",
    "eval_dataloader = DataLoader(val_set, batch_size=1)"
   ]
  },
  {
   "cell_type": "code",
   "execution_count": 16,
   "id": "93ac2dd5",
   "metadata": {},
   "outputs": [
    {
     "name": "stdout",
     "output_type": "stream",
     "text": [
      "-----------------Total loss after mini-batch     0, epoch 0 : 1.511\n",
      "saved session to  ./models/mlp.pt\n",
      "-----------------Total loss after mini-batch   100, epoch 0 : 0.264\n",
      "-----------------Total loss after mini-batch   200, epoch 0 : 0.332\n",
      "-----------------Total loss after mini-batch   300, epoch 0 : 0.259\n",
      "-----------------Total loss after mini-batch   400, epoch 0 : 0.364\n",
      "-----------------Total loss after mini-batch   500, epoch 0 : 0.418\n",
      "saved session to  ./models/mlp.pt\n",
      "-----------------Total loss after mini-batch   600, epoch 0 : 0.262\n",
      "-----------------Total loss after mini-batch   700, epoch 0 : 0.210\n",
      "-----------------Total loss after mini-batch   800, epoch 0 : 0.190\n",
      "-----------------Total loss after mini-batch   900, epoch 0 : 0.245\n",
      "Evaluation----\n",
      "-----------------Total loss after epoch     0: 0.532\n",
      "-----------------Total loss after mini-batch  1000, epoch 1 : 0.218\n",
      "saved session to  ./models/mlp.pt\n",
      "-----------------Total loss after mini-batch  1100, epoch 1 : 0.224\n",
      "-----------------Total loss after mini-batch  1200, epoch 1 : 0.200\n",
      "-----------------Total loss after mini-batch  1300, epoch 1 : 0.197\n",
      "-----------------Total loss after mini-batch  1400, epoch 1 : 0.179\n",
      "-----------------Total loss after mini-batch  1500, epoch 1 : 0.211\n",
      "saved session to  ./models/mlp.pt\n",
      "-----------------Total loss after mini-batch  1600, epoch 1 : 0.221\n",
      "-----------------Total loss after mini-batch  1700, epoch 1 : 0.138\n",
      "-----------------Total loss after mini-batch  1800, epoch 1 : 0.272\n",
      "-----------------Total loss after mini-batch  1900, epoch 1 : 0.141\n",
      "-----------------Total loss after mini-batch  2000, epoch 2 : 0.204\n",
      "saved session to  ./models/mlp.pt\n",
      "-----------------Total loss after mini-batch  2100, epoch 2 : 0.220\n",
      "-----------------Total loss after mini-batch  2200, epoch 2 : 0.096\n",
      "-----------------Total loss after mini-batch  2300, epoch 2 : 0.122\n",
      "-----------------Total loss after mini-batch  2400, epoch 2 : 0.215\n",
      "-----------------Total loss after mini-batch  2500, epoch 2 : 0.145\n",
      "saved session to  ./models/mlp.pt\n",
      "-----------------Total loss after mini-batch  2600, epoch 2 : 0.110\n",
      "-----------------Total loss after mini-batch  2700, epoch 2 : 0.123\n",
      "-----------------Total loss after mini-batch  2800, epoch 2 : 0.137\n",
      "-----------------Total loss after mini-batch  2900, epoch 2 : 0.118\n",
      "-----------------Total loss after mini-batch  3000, epoch 3 : 0.170\n",
      "saved session to  ./models/mlp.pt\n",
      "-----------------Total loss after mini-batch  3100, epoch 3 : 0.118\n",
      "-----------------Total loss after mini-batch  3200, epoch 3 : 0.255\n",
      "-----------------Total loss after mini-batch  3300, epoch 3 : 0.162\n",
      "-----------------Total loss after mini-batch  3400, epoch 3 : 0.159\n",
      "-----------------Total loss after mini-batch  3500, epoch 3 : 0.137\n",
      "saved session to  ./models/mlp.pt\n",
      "-----------------Total loss after mini-batch  3600, epoch 3 : 0.220\n",
      "-----------------Total loss after mini-batch  3700, epoch 3 : 0.120\n",
      "-----------------Total loss after mini-batch  3800, epoch 3 : 0.143\n",
      "-----------------Total loss after mini-batch  3900, epoch 4 : 0.080\n",
      "-----------------Total loss after mini-batch  4000, epoch 4 : 0.132\n",
      "saved session to  ./models/mlp.pt\n",
      "-----------------Total loss after mini-batch  4100, epoch 4 : 0.179\n",
      "-----------------Total loss after mini-batch  4200, epoch 4 : 0.121\n",
      "-----------------Total loss after mini-batch  4300, epoch 4 : 0.221\n",
      "-----------------Total loss after mini-batch  4400, epoch 4 : 0.167\n",
      "-----------------Total loss after mini-batch  4500, epoch 4 : 0.144\n",
      "saved session to  ./models/mlp.pt\n",
      "-----------------Total loss after mini-batch  4600, epoch 4 : 0.114\n",
      "-----------------Total loss after mini-batch  4700, epoch 4 : 0.134\n",
      "-----------------Total loss after mini-batch  4800, epoch 4 : 0.111\n",
      "-----------------Total loss after mini-batch  4900, epoch 5 : 0.127\n",
      "-----------------Total loss after mini-batch  5000, epoch 5 : 0.093\n",
      "saved session to  ./models/mlp.pt\n",
      "-----------------Total loss after mini-batch  5100, epoch 5 : 0.141\n",
      "-----------------Total loss after mini-batch  5200, epoch 5 : 0.119\n",
      "-----------------Total loss after mini-batch  5300, epoch 5 : 0.072\n",
      "-----------------Total loss after mini-batch  5400, epoch 5 : 0.114\n",
      "-----------------Total loss after mini-batch  5500, epoch 5 : 0.158\n",
      "saved session to  ./models/mlp.pt\n",
      "-----------------Total loss after mini-batch  5600, epoch 5 : 0.150\n",
      "-----------------Total loss after mini-batch  5700, epoch 5 : 0.205\n",
      "-----------------Total loss after mini-batch  5800, epoch 5 : 0.164\n",
      "Evaluation----\n",
      "-----------------Total loss after epoch     5: 0.556\n",
      "-----------------Total loss after mini-batch  5900, epoch 6 : 0.089\n",
      "-----------------Total loss after mini-batch  6000, epoch 6 : 0.149\n",
      "saved session to  ./models/mlp.pt\n",
      "-----------------Total loss after mini-batch  6100, epoch 6 : 0.210\n",
      "-----------------Total loss after mini-batch  6200, epoch 6 : 0.221\n",
      "-----------------Total loss after mini-batch  6300, epoch 6 : 0.296\n",
      "-----------------Total loss after mini-batch  6400, epoch 6 : 0.148\n",
      "-----------------Total loss after mini-batch  6500, epoch 6 : 0.134\n",
      "saved session to  ./models/mlp.pt\n",
      "-----------------Total loss after mini-batch  6600, epoch 6 : 0.131\n",
      "-----------------Total loss after mini-batch  6700, epoch 6 : 0.134\n",
      "-----------------Total loss after mini-batch  6800, epoch 7 : 0.135\n",
      "-----------------Total loss after mini-batch  6900, epoch 7 : 0.196\n",
      "-----------------Total loss after mini-batch  7000, epoch 7 : 0.090\n",
      "saved session to  ./models/mlp.pt\n",
      "-----------------Total loss after mini-batch  7100, epoch 7 : 0.199\n",
      "-----------------Total loss after mini-batch  7200, epoch 7 : 0.071\n",
      "-----------------Total loss after mini-batch  7300, epoch 7 : 0.173\n",
      "-----------------Total loss after mini-batch  7400, epoch 7 : 0.119\n",
      "-----------------Total loss after mini-batch  7500, epoch 7 : 0.147\n",
      "saved session to  ./models/mlp.pt\n",
      "-----------------Total loss after mini-batch  7600, epoch 7 : 0.109\n",
      "-----------------Total loss after mini-batch  7700, epoch 7 : 0.216\n",
      "-----------------Total loss after mini-batch  7800, epoch 8 : 0.111\n",
      "-----------------Total loss after mini-batch  7900, epoch 8 : 0.130\n",
      "-----------------Total loss after mini-batch  8000, epoch 8 : 0.119\n",
      "saved session to  ./models/mlp.pt\n",
      "-----------------Total loss after mini-batch  8100, epoch 8 : 0.154\n",
      "-----------------Total loss after mini-batch  8200, epoch 8 : 0.186\n",
      "-----------------Total loss after mini-batch  8300, epoch 8 : 0.092\n",
      "-----------------Total loss after mini-batch  8400, epoch 8 : 0.114\n",
      "-----------------Total loss after mini-batch  8500, epoch 8 : 0.058\n",
      "saved session to  ./models/mlp.pt\n",
      "-----------------Total loss after mini-batch  8600, epoch 8 : 0.146\n",
      "-----------------Total loss after mini-batch  8700, epoch 8 : 0.151\n",
      "-----------------Total loss after mini-batch  8800, epoch 9 : 0.111\n",
      "-----------------Total loss after mini-batch  8900, epoch 9 : 0.151\n",
      "-----------------Total loss after mini-batch  9000, epoch 9 : 0.136\n",
      "saved session to  ./models/mlp.pt\n",
      "-----------------Total loss after mini-batch  9100, epoch 9 : 0.160\n",
      "-----------------Total loss after mini-batch  9200, epoch 9 : 0.053\n",
      "-----------------Total loss after mini-batch  9300, epoch 9 : 0.128\n",
      "-----------------Total loss after mini-batch  9400, epoch 9 : 0.132\n",
      "-----------------Total loss after mini-batch  9500, epoch 9 : 0.095\n",
      "saved session to  ./models/mlp.pt\n",
      "-----------------Total loss after mini-batch  9600, epoch 9 : 0.133\n"
     ]
    }
   ],
   "source": [
    "torch.autograd.set_detect_anomaly(True)\n",
    "\n",
    "# Run the training loop\n",
    "i = 0\n",
    "for epoch in range(num_epochs):\n",
    "    model.train()\n",
    "    for data in train_dataloader:\n",
    "        # Get batch of data\n",
    "        inputs, labels = data\n",
    "        # Zero the gradients\n",
    "        optimizer.zero_grad()\n",
    "        # Perform forward pass\n",
    "        network_output = model.forward(inputs)\n",
    "        # Compute loss\n",
    "        loss = criterion(network_output, labels)\n",
    "        # Ensure no funny numerics\n",
    "        assert not torch.isnan(loss).any()\n",
    "        # Perform backward pass\n",
    "        loss.backward()\n",
    "        # \n",
    "        torch.nn.utils.clip_grad_norm_(model.parameters(), 10.0)\n",
    "        # Perform optimization\n",
    "        optimizer.step()\n",
    "        # Print statistics\n",
    "        current_loss = loss.item()\n",
    "        if i % 100 == 0:\n",
    "            print('-----------------Total loss after mini-batch %5d, epoch %d : %.3f' % (i, epoch, current_loss))\n",
    "            current_loss = 0.0\n",
    "        if i % 500 == 0:\n",
    "            torch.save(model.state_dict(), model_save_path)\n",
    "            print(\"saved session to \", model_save_path)\n",
    "\n",
    "        i+=1\n",
    "\n",
    "    if epoch % 5 == 0:\n",
    "        # eval\n",
    "        model.eval()\n",
    "        total_loss = 0\n",
    "\n",
    "        for data in eval_dataloader:\n",
    "            # Get batch of data\n",
    "            inputs, labels = data\n",
    "            # Perform forward pass\n",
    "            network_output = model.forward(inputs)\n",
    "            # Compute loss\n",
    "            loss = criterion(network_output, labels)\n",
    "            total_loss += loss.detach().item()\n",
    "\n",
    "        print(\"Evaluation----\")\n",
    "        print('-----------------Total loss after epoch %5d: %.3f' % (epoch, total_loss / len(eval_dataloader)))"
   ]
  },
  {
   "cell_type": "markdown",
   "id": "f08ccbaf",
   "metadata": {},
   "source": [
    "## Visualize the prediction"
   ]
  },
  {
   "cell_type": "code",
   "execution_count": 17,
   "id": "6fc27758",
   "metadata": {},
   "outputs": [
    {
     "data": {
      "text/plain": [
       "MLPModel(\n",
       "  (layers): Sequential(\n",
       "    (0): Linear(in_features=104, out_features=512, bias=True)\n",
       "    (1): BatchNorm1d(512, eps=1e-05, momentum=0.1, affine=True, track_running_stats=True)\n",
       "    (2): ReLU()\n",
       "    (3): Linear(in_features=512, out_features=512, bias=True)\n",
       "    (4): BatchNorm1d(512, eps=1e-05, momentum=0.1, affine=True, track_running_stats=True)\n",
       "    (5): ReLU()\n",
       "    (6): Linear(in_features=512, out_features=512, bias=True)\n",
       "    (7): BatchNorm1d(512, eps=1e-05, momentum=0.1, affine=True, track_running_stats=True)\n",
       "    (8): ReLU()\n",
       "    (9): Linear(in_features=512, out_features=64, bias=True)\n",
       "    (10): ReLU()\n",
       "    (11): Linear(in_features=64, out_features=2, bias=True)\n",
       "  )\n",
       ")"
      ]
     },
     "execution_count": 17,
     "metadata": {},
     "output_type": "execute_result"
    }
   ],
   "source": [
    "model = network_cls()\n",
    "model.load_state_dict(torch.load(model_save_path))\n",
    "model.to(DEVICE)\n",
    "model.eval()"
   ]
  },
  {
   "cell_type": "code",
   "execution_count": 108,
   "id": "957a084a",
   "metadata": {},
   "outputs": [
    {
     "data": {
      "image/png": "[encoded data removed]",
      "text/plain": [
       "<Figure size 1000x1000 with 1 Axes>"
      ]
     },
     "metadata": {
      "needs_background": "light"
     },
     "output_type": "display_data"
    }
   ],
   "source": [
    "# TODO: only try validation set\n",
    "idx = np.random.randint(len(RAW_DATA))\n",
    "current_pos, goal_pos, occ_grid, next_pos, _, _ = RAW_DATA[idx]\n",
    "predicted_pos = model.forward(dataset[idx][0].view(1, -1)).detach().cpu().numpy().flatten()\n",
    "visualize_data(occ_grid, current_pos, goal_pos, next_pos, predicted_pos=predicted_pos)"
   ]
  },
  {
   "cell_type": "markdown",
   "id": "562d898a",
   "metadata": {},
   "source": [
    "# Motion planning test\n",
    "\n",
    "Test dataset (100 sets):\n",
    "- Obstacles\n",
    "- Start\n",
    "- Goal\n",
    "- Path of astar\n",
    "\n",
    "Evaluation metric:\n",
    "- Sucess: close to the goal within a tolerance, path not in collision\n",
    "- Path length: "
   ]
  }
 ],
 "metadata": {
  "kernelspec": {
   "display_name": "Python 3 (ipykernel)",
   "language": "python",
   "name": "python3"
  },
  "language_info": {
   "codemirror_mode": {
    "name": "ipython",
    "version": 3
   },
   "file_extension": ".py",
   "mimetype": "text/x-python",
   "name": "python",
   "nbconvert_exporter": "python",
   "pygments_lexer": "ipython3",
   "version": "3.8.10"
  }
 },
 "nbformat": 4,
 "nbformat_minor": 5
}
